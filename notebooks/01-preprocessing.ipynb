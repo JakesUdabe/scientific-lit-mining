{
 "cells": [
  {
   "cell_type": "code",
   "execution_count": null,
   "id": "bd3d5a61",
   "metadata": {
    "vscode": {
     "languageId": "plaintext"
    }
   },
   "outputs": [],
   "source": [
    "import pandas as pd\n",
    "import spacy\n",
    "import re\n",
    "import os\n",
    "\n",
    "# Carga el modelo de spaCy que descargaste\n",
    "nlp = spacy.load(\"en_core_web_sm\")\n",
    "\n",
    "# Define la ruta del archivo de datos\n",
    "project_dir = os.path.join(os.path.dirname(__file__), '..', '..')\n",
    "file_path = os.path.join(project_dir, 'data', 'raw', 'pubmed_articles.csv')\n",
    "print(f\"Cargando datos desde: {file_path}\")\n",
    "\n",
    "# Carga los datos extraídos en un DataFrame de pandas\n",
    "df = pd.read_csv(file_path)\n",
    "\n",
    "# --- Preprocesamiento de texto ---\n",
    "def preprocess_text(text):\n",
    "    \"\"\"\n",
    "    Realiza la limpieza y normalización del texto.\n",
    "    \"\"\"\n",
    "    # 1. Limpieza inicial: elimina caracteres especiales y URLs\n",
    "    # Usa expresiones regulares para limpiar texto\n",
    "    text = re.sub(r'http\\S+|www\\S+|https\\S+', '', text, flags=re.MULTILINE)\n",
    "    text = re.sub(r'\\S*@\\S*\\s?', '', text) # Elimina emails\n",
    "    text = re.sub(r'[^\\w\\s]', '', text) # Elimina puntuación\n",
    "\n",
    "    # 2. Tokenización y lematización\n",
    "    # Procesa el texto con spaCy\n",
    "    doc = nlp(text.lower()) \n",
    "    \n",
    "    # 3. Eliminación de palabras vacías y lematización\n",
    "    # Excluye palabras vacías (stopwords) y símbolos, y usa la forma base de la palabra (lemma_)\n",
    "    tokens = [token.lemma_ for token in doc if not token.is_stop and not token.is_punct and not token.is_space]\n",
    "    \n",
    "    # 4. Reconstrucción del texto limpio\n",
    "    return \" \".join(tokens)\n",
    "\n",
    "# Aplica la función de preprocesamiento a la columna 'abstract'\n",
    "# y guarda el resultado en una nueva columna 'clean_abstract'\n",
    "df['clean_abstract'] = df['abstract'].apply(preprocess_text)\n",
    "\n",
    "# Muestra los resultados para comparar\n",
    "print(\"\\n--- Abstract Original ---\")\n",
    "print(df['abstract'][0])\n",
    "print(\"\\n--- Abstract Preprocesado ---\")\n",
    "print(df['clean_abstract'][0])\n",
    "\n",
    "# Opcional: Guarda el DataFrame con la nueva columna para el siguiente paso\n",
    "clean_data_path = os.path.join(project_dir, 'data', 'processed', 'clean_pubmed_articles.csv')\n",
    "os.makedirs(os.path.dirname(clean_data_path), exist_ok=True)\n",
    "df.to_csv(clean_data_path, index=False)\n",
    "print(f\"\\nDatos preprocesados guardados en: {clean_data_path}\")"
   ]
  }
 ],
 "metadata": {
  "language_info": {
   "name": "python"
  }
 },
 "nbformat": 4,
 "nbformat_minor": 5
}
