{
 "cells": [
  {
   "cell_type": "code",
   "execution_count": 2,
   "id": "bd3d5a61",
   "metadata": {},
   "outputs": [
    {
     "name": "stdout",
     "output_type": "stream",
     "text": [
      "Cargando datos desde: c:\\Users\\nijak\\Desktop\\GitHub\\scientific-lit-mining\\data\\raw\\pubmed_articles.csv\n",
      "\n",
      "--- Abstract Original ---\n",
      "The use of nanotechnology in medicine and more specifically drug delivery is set to spread rapidly. Currently many substances are under investigation for drug delivery and more specifically for cancer therapy. Interestingly pharmaceutical sciences are using nanoparticles to reduce toxicity and side effects of drugs and up to recently did not realize that carrier systems themselves may impose risks to the patient. The kind of hazards that are introduced by using nanoparticles for drug delivery are beyond that posed by conventional hazards imposed by chemicals in classical delivery matrices. For nanoparticles the knowledge on particle toxicity as obtained in inhalation toxicity shows the way how to investigate the potential hazards of nanoparticles. The toxicology of particulate matter differs from toxicology of substances as the composing chemical(s) may or may not be soluble in biological matrices, thus influencing greatly the potential exposure of various internal organs. This may vary from a rather high local exposure in the lungs and a low or neglectable exposure for other organ systems after inhalation. However, absorbed species may also influence the potential toxicity of the inhaled particles. For nanoparticles the situation is different as their size opens the potential for crossing the various biological barriers within the body. From a positive viewpoint, especially the potential to cross the blood brain barrier may open new ways for drug delivery into the brain. In addition, the nanosize also allows for access into the cell and various cellular compartments including the nucleus. A multitude of substances are currently under investigation for the preparation of nanoparticles for drug delivery, varying from biological substances like albumin, gelatine and phospholipids for liposomes, and more substances of a chemical nature like various polymers and solid metal containing nanoparticles. It is obvious that the potential interaction with tissues and cells, and the potential toxicity, greatly depends on the actual composition of the nanoparticle formulation. This paper provides an overview on some of the currently used systems for drug delivery. Besides the potential beneficial use also attention is drawn to the questions how we should proceed with the safety evaluation of the nanoparticle formulations for drug delivery. For such testing the lessons learned from particle toxicity as applied in inhalation toxicology may be of use. Although for pharmaceutical use the current requirements seem to be adequate to detect most of the adverse effects of nanoparticle formulations, it can not be expected that all aspects of nanoparticle toxicology will be detected. So, probably additional more specific testing would be needed.\n",
      "\n",
      "--- Abstract Preprocesado ---\n",
      "use nanotechnology medicine specifically drug delivery set spread rapidly currently substance investigation drug delivery specifically cancer therapy interestingly pharmaceutical science nanoparticle reduce toxicity effect drug recently realize carrier system impose risk patient kind hazard introduce nanoparticle drug delivery pose conventional hazard impose chemical classical delivery matrix nanoparticle knowledge particle toxicity obtain inhalation toxicity show way investigate potential hazard nanoparticle toxicology particulate matter differ toxicology substance compose chemical soluble biological matrix influence greatly potential exposure internal organ vary high local exposure lung low neglectable exposure organ system inhalation absorb specie influence potential toxicity inhaled particle nanoparticle situation different size open potential cross biological barrier body positive viewpoint especially potential cross blood brain barrier open new way drug delivery brain addition nanosize allow access cell cellular compartment include nucleus multitude substance currently investigation preparation nanoparticle drug delivery vary biological substance like albumin gelatine phospholipid liposome substance chemical nature like polymer solid metal contain nanoparticle obvious potential interaction tissue cell potential toxicity greatly depend actual composition nanoparticle formulation paper provide overview currently system drug delivery potential beneficial use attention draw question proceed safety evaluation nanoparticle formulation drug delivery testing lesson learn particle toxicity apply inhalation toxicology use pharmaceutical use current requirement adequate detect adverse effect nanoparticle formulation expect aspect nanoparticle toxicology detect probably additional specific testing need\n",
      "\n",
      "Datos preprocesados guardados en: c:\\Users\\nijak\\Desktop\\GitHub\\scientific-lit-mining\\data\\processed\\clean_pubmed_articles.csv\n"
     ]
    }
   ],
   "source": [
    "import pandas as pd\n",
    "import spacy\n",
    "import re\n",
    "import os\n",
    "\n",
    "# Carga el modelo de spaCy que descargaste\n",
    "nlp = spacy.load(\"en_core_web_sm\")\n",
    "\n",
    "# Define la ruta del archivo de datos\n",
    "project_dir = os.path.abspath(os.path.join(os.getcwd(), '..'))\n",
    "file_path = os.path.join(project_dir, 'data', 'raw', 'pubmed_articles.csv')\n",
    "print(f\"Cargando datos desde: {file_path}\")\n",
    "\n",
    "# Carga los datos extraídos en un DataFrame de pandas\n",
    "df = pd.read_csv(file_path)\n",
    "\n",
    "# --- Preprocesamiento de texto ---\n",
    "def preprocess_text(text):\n",
    "    \"\"\"\n",
    "    Realiza la limpieza y normalización del texto.\n",
    "    \"\"\"\n",
    "    # 1. Limpieza inicial: elimina caracteres especiales y URLs\n",
    "    # Usa expresiones regulares para limpiar texto\n",
    "    text = re.sub(r'http\\S+|www\\S+|https\\S+', '', text, flags=re.MULTILINE)\n",
    "    text = re.sub(r'\\S*@\\S*\\s?', '', text) # Elimina emails\n",
    "    text = re.sub(r'[^\\w\\s]', '', text) # Elimina puntuación\n",
    "\n",
    "    # 2. Tokenización y lematización\n",
    "    # Procesa el texto con spaCy\n",
    "    doc = nlp(text.lower()) \n",
    "    \n",
    "    # 3. Eliminación de palabras vacías y lematización\n",
    "    # Excluye palabras vacías (stopwords) y símbolos, y usa la forma base de la palabra (lemma_)\n",
    "    tokens = [token.lemma_ for token in doc if not token.is_stop and not token.is_punct and not token.is_space]\n",
    "    \n",
    "    # 4. Reconstrucción del texto limpio\n",
    "    return \" \".join(tokens)\n",
    "\n",
    "# Aplica la función de preprocesamiento a la columna 'abstract'\n",
    "# y guarda el resultado en una nueva columna 'clean_abstract'\n",
    "df['clean_abstract'] = df['abstract'].apply(preprocess_text)\n",
    "\n",
    "# Muestra los resultados para comparar\n",
    "print(\"\\n--- Abstract Original ---\")\n",
    "print(df['abstract'][0])\n",
    "print(\"\\n--- Abstract Preprocesado ---\")\n",
    "print(df['clean_abstract'][0])\n",
    "\n",
    "# Opcional: Guarda el DataFrame con la nueva columna para el siguiente paso\n",
    "clean_data_path = os.path.join(project_dir, 'data', 'processed', 'clean_pubmed_articles.csv')\n",
    "os.makedirs(os.path.dirname(clean_data_path), exist_ok=True)\n",
    "df.to_csv(clean_data_path, index=False)\n",
    "print(f\"\\nDatos preprocesados guardados en: {clean_data_path}\")"
   ]
  }
 ],
 "metadata": {
  "kernelspec": {
   "display_name": "Python (nlp_proyecto)",
   "language": "python",
   "name": "nlp_proyecto"
  },
  "language_info": {
   "codemirror_mode": {
    "name": "ipython",
    "version": 3
   },
   "file_extension": ".py",
   "mimetype": "text/x-python",
   "name": "python",
   "nbconvert_exporter": "python",
   "pygments_lexer": "ipython3",
   "version": "3.11.9"
  }
 },
 "nbformat": 4,
 "nbformat_minor": 5
}
