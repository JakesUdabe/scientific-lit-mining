{
 "cells": [
  {
   "cell_type": "code",
   "execution_count": null,
   "id": "bd3d5a61",
   "metadata": {},
   "outputs": [
    {
     "ename": "NameError",
     "evalue": "name '__file__' is not defined",
     "output_type": "error",
     "traceback": [
      "\u001b[31m---------------------------------------------------------------------------\u001b[39m",
      "\u001b[31mNameError\u001b[39m                                 Traceback (most recent call last)",
      "\u001b[36mCell\u001b[39m\u001b[36m \u001b[39m\u001b[32mIn[1]\u001b[39m\u001b[32m, line 10\u001b[39m\n\u001b[32m      7\u001b[39m nlp = spacy.load(\u001b[33m\"\u001b[39m\u001b[33men_core_web_sm\u001b[39m\u001b[33m\"\u001b[39m)\n\u001b[32m      9\u001b[39m \u001b[38;5;66;03m# Define la ruta del archivo de datos\u001b[39;00m\n\u001b[32m---> \u001b[39m\u001b[32m10\u001b[39m project_dir = os.path.join(os.path.dirname(\u001b[34;43m__file__\u001b[39;49m), \u001b[33m'\u001b[39m\u001b[33m..\u001b[39m\u001b[33m'\u001b[39m, \u001b[33m'\u001b[39m\u001b[33m..\u001b[39m\u001b[33m'\u001b[39m)\n\u001b[32m     11\u001b[39m file_path = os.path.join(project_dir, \u001b[33m'\u001b[39m\u001b[33mdata\u001b[39m\u001b[33m'\u001b[39m, \u001b[33m'\u001b[39m\u001b[33mraw\u001b[39m\u001b[33m'\u001b[39m, \u001b[33m'\u001b[39m\u001b[33mpubmed_articles.csv\u001b[39m\u001b[33m'\u001b[39m)\n\u001b[32m     12\u001b[39m \u001b[38;5;28mprint\u001b[39m(\u001b[33mf\u001b[39m\u001b[33m\"\u001b[39m\u001b[33mCargando datos desde: \u001b[39m\u001b[38;5;132;01m{\u001b[39;00mfile_path\u001b[38;5;132;01m}\u001b[39;00m\u001b[33m\"\u001b[39m)\n",
      "\u001b[31mNameError\u001b[39m: name '__file__' is not defined"
     ]
    }
   ],
   "source": [
    "import pandas as pd\n",
    "import spacy\n",
    "import re\n",
    "import os\n",
    "\n",
    "# Carga el modelo de spaCy que descargaste\n",
    "nlp = spacy.load(\"en_core_web_sm\")\n",
    "\n",
    "# Define la ruta del archivo de datos\n",
    "project_dir = os.path.abspath(os.path.join(os.getcwd(), '..'))\n",
    "file_path = os.path.join(project_dir, 'data', 'raw', 'pubmed_articles.csv')\n",
    "print(f\"Cargando datos desde: {file_path}\")\n",
    "\n",
    "# Carga los datos extraídos en un DataFrame de pandas\n",
    "df = pd.read_csv(file_path)\n",
    "\n",
    "# --- Preprocesamiento de texto ---\n",
    "def preprocess_text(text):\n",
    "    \"\"\"\n",
    "    Realiza la limpieza y normalización del texto.\n",
    "    \"\"\"\n",
    "    # 1. Limpieza inicial: elimina caracteres especiales y URLs\n",
    "    # Usa expresiones regulares para limpiar texto\n",
    "    text = re.sub(r'http\\S+|www\\S+|https\\S+', '', text, flags=re.MULTILINE)\n",
    "    text = re.sub(r'\\S*@\\S*\\s?', '', text) # Elimina emails\n",
    "    text = re.sub(r'[^\\w\\s]', '', text) # Elimina puntuación\n",
    "\n",
    "    # 2. Tokenización y lematización\n",
    "    # Procesa el texto con spaCy\n",
    "    doc = nlp(text.lower()) \n",
    "    \n",
    "    # 3. Eliminación de palabras vacías y lematización\n",
    "    # Excluye palabras vacías (stopwords) y símbolos, y usa la forma base de la palabra (lemma_)\n",
    "    tokens = [token.lemma_ for token in doc if not token.is_stop and not token.is_punct and not token.is_space]\n",
    "    \n",
    "    # 4. Reconstrucción del texto limpio\n",
    "    return \" \".join(tokens)\n",
    "\n",
    "# Aplica la función de preprocesamiento a la columna 'abstract'\n",
    "# y guarda el resultado en una nueva columna 'clean_abstract'\n",
    "df['clean_abstract'] = df['abstract'].apply(preprocess_text)\n",
    "\n",
    "# Muestra los resultados para comparar\n",
    "print(\"\\n--- Abstract Original ---\")\n",
    "print(df['abstract'][0])\n",
    "print(\"\\n--- Abstract Preprocesado ---\")\n",
    "print(df['clean_abstract'][0])\n",
    "\n",
    "# Opcional: Guarda el DataFrame con la nueva columna para el siguiente paso\n",
    "clean_data_path = os.path.join(project_dir, 'data', 'processed', 'clean_pubmed_articles.csv')\n",
    "os.makedirs(os.path.dirname(clean_data_path), exist_ok=True)\n",
    "df.to_csv(clean_data_path, index=False)\n",
    "print(f\"\\nDatos preprocesados guardados en: {clean_data_path}\")"
   ]
  }
 ],
 "metadata": {
  "kernelspec": {
   "display_name": "Python (nlp_proyecto)",
   "language": "python",
   "name": "nlp_proyecto"
  },
  "language_info": {
   "codemirror_mode": {
    "name": "ipython",
    "version": 3
   },
   "file_extension": ".py",
   "mimetype": "text/x-python",
   "name": "python",
   "nbconvert_exporter": "python",
   "pygments_lexer": "ipython3",
   "version": "3.11.9"
  }
 },
 "nbformat": 4,
 "nbformat_minor": 5
}
