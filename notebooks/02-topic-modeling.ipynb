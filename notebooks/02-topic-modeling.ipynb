{
 "cells": [
  {
   "cell_type": "code",
   "execution_count": null,
   "id": "36008f81",
   "metadata": {},
   "outputs": [],
   "source": [
    "import pandas as pd\n",
    "import os\n",
    "\n",
    "# Importa las librerías necesarias de scikit-learn\n",
    "from sklearn.feature_extraction.text import TfidfVectorizer\n",
    "from sklearn.decomposition import LatentDirichletAllocation\n",
    "\n",
    "# Define la ruta del archivo de datos limpios\n",
    "project_dir = os.path.abspath(os.path.join(os.getcwd(), '..'))\n",
    "file_path = os.path.join(project_dir, 'data', 'processed', 'clean_pubmed_articles.csv')\n",
    "print(f\"Cargando datos limpios desde: {file_path}\")\n",
    "\n",
    "# Carga los datos preprocesados en un DataFrame\n",
    "df = pd.read_csv(file_path)\n",
    "\n",
    "# --- Vectorización de los datos ---\n",
    "# Crea un vectorizador para convertir los textos en números\n",
    "vectorizer = TfidfVectorizer(max_df=0.95, min_df=2, stop_words='english')\n",
    "# 'fit_transform' aprende el vocabulario y transforma los datos\n",
    "data_vectorized = vectorizer.fit_transform(df['clean_abstract'])\n",
    "\n",
    "# --- Entrenamiento del modelo LDA ---\n",
    "# Crea el modelo LDA. Puedes cambiar 'n_components' para el número de temas que quieres.\n",
    "num_topics = 5\n",
    "lda = LatentDirichletAllocation(n_components=num_topics, random_state=42)\n",
    "# Entrena el modelo\n",
    "lda.fit(data_vectorized)\n",
    "\n",
    "# --- Impresión de los temas ---\n",
    "def print_top_words(model, feature_names, n_top_words):\n",
    "    for topic_idx, topic in enumerate(model.components_):\n",
    "        print(f\"\\nTema #{topic_idx+1}:\")\n",
    "        # Imprime las palabras más importantes de cada tema\n",
    "        print(\" \".join([feature_names[i] for i in topic.argsort()[:-n_top_words - 1:-1]]))\n",
    "\n",
    "# Extrae las palabras clave del vectorizador\n",
    "feature_names = vectorizer.get_feature_names_out()\n",
    "\n",
    "# Imprime los temas y sus palabras clave\n",
    "print_top_words(lda, feature_names, 10)"
   ]
  }
 ],
 "metadata": {
  "language_info": {
   "name": "python"
  }
 },
 "nbformat": 4,
 "nbformat_minor": 5
}
